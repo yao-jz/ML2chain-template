{
 "cells": [
  {
   "cell_type": "markdown",
   "metadata": {},
   "source": [
    "# How to get historical data from the blockchain (Sepolia)\n",
    "\n",
    "Library: [web3.py](https://web3py.readthedocs.io/en/stable/index.html)\n",
    "\n",
    "Some other useful resources: [Etherscan(Sepolia)](https://docs.etherscan.io/v/sepolia-etherscan/), [Etherscan](https://docs.etherscan.io/), [alchemy](https://docs.alchemy.com/)\n",
    "\n",
    "If you want to implement some other functions, please refer to above documentations."
   ]
  },
  {
   "cell_type": "code",
   "execution_count": 18,
   "metadata": {},
   "outputs": [],
   "source": [
    "from web3 import Web3, HTTPProvider\n",
    "import json\n",
    "import time\n",
    "import requests\n",
    "import os"
   ]
  },
  {
   "cell_type": "markdown",
   "metadata": {},
   "source": [
    "### Set up your address and provider\n",
    "\n",
    "directly paste your url/address/private key into the code is not safe. You can store those information in the local environment and use `os.environ.get('PRIVATE_KEY')` instead."
   ]
  },
  {
   "cell_type": "code",
   "execution_count": 7,
   "metadata": {},
   "outputs": [],
   "source": [
    "w3 = Web3(HTTPProvider(os.environ.get(\"PROVIDER_URI_SEPOLIA\")))\n",
    "my_address = os.environ.get(\"ADDRESS\")\n",
    "private_key = os.environ.get(\"PRIVATE_KEY\")\n",
    "address = Web3.to_checksum_address(my_address)"
   ]
  },
  {
   "cell_type": "markdown",
   "metadata": {},
   "source": [
    "### Get some on-chain information"
   ]
  },
  {
   "cell_type": "code",
   "execution_count": 8,
   "metadata": {},
   "outputs": [],
   "source": [
    "# get a block by number\n",
    "block = w3.eth.get_block(12345)\n",
    "\n",
    "# get the latest block\n",
    "block = w3.eth.get_block('latest')\n",
    "\n",
    "# convert between wei and eth\n",
    "wei = w3.to_wei(1, 'ether')\n",
    "eth = w3.from_wei(1000000000000000000, 'ether')\n",
    "\n",
    "# get a transaction by its hash\n",
    "transaction = w3.eth.get_transaction('0xeb7d89660746178954f8295ece884465a7a9f3947f152b25421ccab567b4ffce')\n",
    "\n",
    "# get a transaction's receipt\n",
    "receipt = w3.eth.get_transaction_receipt('0xeb7d89660746178954f8295ece884465a7a9f3947f152b25421ccab567b4ffce')\n",
    "\n",
    "# get the balance of an address\n",
    "balance = w3.eth.get_balance(address)\n",
    "\n",
    "# get the nonce of an address\n",
    "nonce = w3.eth.get_transaction_count(address)\n",
    "\n",
    "# get the gas price\n",
    "gas_price = w3.eth.gas_price\n",
    "\n",
    "# get the current block number\n",
    "block_number = w3.eth.block_number"
   ]
  },
  {
   "cell_type": "markdown",
   "metadata": {},
   "source": [
    "### Get information from etherscan"
   ]
  },
  {
   "cell_type": "code",
   "execution_count": 10,
   "metadata": {},
   "outputs": [
    {
     "name": "stdout",
     "output_type": "stream",
     "text": [
      "48.93486310911901\n"
     ]
    }
   ],
   "source": [
    "def get_account_balance(address):\n",
    "    api_key = os.environ.get(\"ETHERSCAN_API_KEY\")\n",
    "    url = f\"https://api-sepolia.etherscan.io/api?module=account&action=balance&address={address}&tag=latest&apikey={api_key}\"\n",
    "    response = requests.get(url)\n",
    "    data = response.json()\n",
    "    if data['status'] == '1':\n",
    "        balance = int(data['result']) / 10**18\n",
    "        return balance\n",
    "    else:\n",
    "        return \"Error: \" + data['message']\n",
    "\n",
    "print(get_account_balance(my_address))"
   ]
  },
  {
   "cell_type": "code",
   "execution_count": 24,
   "metadata": {},
   "outputs": [
    {
     "name": "stdout",
     "output_type": "stream",
     "text": [
      "4977317\n",
      "1703816328\n",
      "0xa4fd9e936b0d743cd62c67f5f55fae1ea4f9dd1a0c88853f26f9f0a9be5bb97e\n",
      "0xa7e4ef0a9e15bdef215e2ed87ae050f974ecd60b\n",
      "0x3dad7c5704a6ea567a0549ee711768c0a405d06c\n",
      "500000000000000000\n",
      "63000\n",
      "15249514035\n",
      "42000\n",
      "21000\n",
      "1\n",
      "0x\n",
      "\n"
     ]
    }
   ],
   "source": [
    "def get_account_transactions(address):\n",
    "    api_key = os.environ.get(\"ETHERSCAN_API_KEY\")\n",
    "    url = f\"https://api-sepolia.etherscan.io/api?module=account&action=txlist&address={address}&startblock=0&endblock=99999999&page=1&offset=100&sort=asc&apikey={api_key}\"\n",
    "    response = requests.get(url)\n",
    "    data = response.json()\n",
    "    if data['status'] == '1':\n",
    "        txs = data['result']\n",
    "        return txs\n",
    "    else:\n",
    "        return \"Error: \" + data['message']\n",
    "\n",
    "transactions = get_account_transactions(my_address)\n",
    "tx = transactions[0]\n",
    "# print the first transaction in the list\n",
    "# this includes all the fields returned by the API\n",
    "print(tx['blockNumber'])\n",
    "print(tx['timeStamp'])\n",
    "print(tx['hash'])\n",
    "print(tx['from'])\n",
    "print(tx['to'])\n",
    "print(tx['value'])\n",
    "print(tx['gas'])\n",
    "print(tx['gasPrice'])\n",
    "print(tx['cumulativeGasUsed'])\n",
    "print(tx['gasUsed'])\n",
    "print(tx['txreceipt_status'])\n",
    "print(tx['input'])\n",
    "print(tx['contractAddress'])"
   ]
  },
  {
   "cell_type": "markdown",
   "metadata": {},
   "source": [
    "### Specify a contract you want to collect data from\n",
    "\n",
    "For example, you want to collect data from [this contract](https://sepolia.etherscan.io/address/0x7d164F30f0b6a2ABAE55Adae9645a22268747D61#code).\n",
    "\n",
    "You can get the contract's address directly from the above link, and get the contract's abi [here](https://sepolia.etherscan.io/address/0x7d164F30f0b6a2ABAE55Adae9645a22268747D61#code). Use the contract address and the abi to instantiate a contract."
   ]
  },
  {
   "cell_type": "code",
   "execution_count": 32,
   "metadata": {},
   "outputs": [],
   "source": [
    "contract_address = \"0x7d164F30f0b6a2ABAE55Adae9645a22268747D61\"\n",
    "contract_abi = json.loads('[{\"inputs\":[{\"internalType\":\"address\",\"name\":\"_owner\",\"type\":\"address\"},{\"internalType\":\"address\",\"name\":\"_collector\",\"type\":\"address\"},{\"internalType\":\"uint256\",\"name\":\"_chainId\",\"type\":\"uint256\"}],\"stateMutability\":\"nonpayable\",\"type\":\"constructor\"},{\"anonymous\":false,\"inputs\":[{\"indexed\":true,\"internalType\":\"address\",\"name\":\"previousOwner\",\"type\":\"address\"},{\"indexed\":true,\"internalType\":\"address\",\"name\":\"newOwner\",\"type\":\"address\"}],\"name\":\"OwnershipTransferred\",\"type\":\"event\"},{\"anonymous\":false,\"inputs\":[{\"indexed\":false,\"internalType\":\"address\",\"name\":\"account\",\"type\":\"address\"}],\"name\":\"Paused\",\"type\":\"event\"},{\"anonymous\":false,\"inputs\":[{\"indexed\":false,\"internalType\":\"address\",\"name\":\"account\",\"type\":\"address\"}],\"name\":\"Unpaused\",\"type\":\"event\"},{\"anonymous\":false,\"inputs\":[{\"indexed\":true,\"internalType\":\"address\",\"name\":\"fromAsset\",\"type\":\"address\"},{\"indexed\":true,\"internalType\":\"address\",\"name\":\"sender\",\"type\":\"address\"},{\"indexed\":false,\"internalType\":\"uint64\",\"name\":\"toChainId\",\"type\":\"uint64\"},{\"indexed\":false,\"internalType\":\"bytes\",\"name\":\"toAddress\",\"type\":\"bytes\"},{\"indexed\":false,\"internalType\":\"uint256\",\"name\":\"net\",\"type\":\"uint256\"},{\"indexed\":false,\"internalType\":\"uint256\",\"name\":\"fee\",\"type\":\"uint256\"}],\"name\":\"WrapperLock\",\"type\":\"event\"},{\"anonymous\":false,\"inputs\":[{\"indexed\":true,\"internalType\":\"address\",\"name\":\"fromAsset\",\"type\":\"address\"},{\"indexed\":true,\"internalType\":\"bytes\",\"name\":\"txHash\",\"type\":\"bytes\"},{\"indexed\":true,\"internalType\":\"address\",\"name\":\"sender\",\"type\":\"address\"},{\"indexed\":false,\"internalType\":\"uint256\",\"name\":\"efee\",\"type\":\"uint256\"}],\"name\":\"WrapperSpeedUp\",\"type\":\"event\"},{\"inputs\":[],\"name\":\"chainId\",\"outputs\":[{\"internalType\":\"uint256\",\"name\":\"\",\"type\":\"uint256\"}],\"stateMutability\":\"view\",\"type\":\"function\"},{\"inputs\":[{\"internalType\":\"address\",\"name\":\"token\",\"type\":\"address\"}],\"name\":\"extractFee\",\"outputs\":[],\"stateMutability\":\"nonpayable\",\"type\":\"function\"},{\"inputs\":[],\"name\":\"feeCollector\",\"outputs\":[{\"internalType\":\"address\",\"name\":\"\",\"type\":\"address\"}],\"stateMutability\":\"view\",\"type\":\"function\"},{\"inputs\":[{\"internalType\":\"address\",\"name\":\"fromAsset\",\"type\":\"address\"},{\"internalType\":\"uint16\",\"name\":\"toChainId\",\"type\":\"uint16\"},{\"internalType\":\"bytes\",\"name\":\"toAddress\",\"type\":\"bytes\"},{\"internalType\":\"uint256\",\"name\":\"amount\",\"type\":\"uint256\"},{\"internalType\":\"uint256\",\"name\":\"fee\",\"type\":\"uint256\"}],\"name\":\"lock\",\"outputs\":[],\"stateMutability\":\"payable\",\"type\":\"function\"},{\"inputs\":[],\"name\":\"lockProxy\",\"outputs\":[{\"internalType\":\"contract ILockProxy\",\"name\":\"\",\"type\":\"address\"}],\"stateMutability\":\"view\",\"type\":\"function\"},{\"inputs\":[],\"name\":\"owner\",\"outputs\":[{\"internalType\":\"address\",\"name\":\"\",\"type\":\"address\"}],\"stateMutability\":\"view\",\"type\":\"function\"},{\"inputs\":[],\"name\":\"pause\",\"outputs\":[],\"stateMutability\":\"nonpayable\",\"type\":\"function\"},{\"inputs\":[],\"name\":\"paused\",\"outputs\":[{\"internalType\":\"bool\",\"name\":\"\",\"type\":\"bool\"}],\"stateMutability\":\"view\",\"type\":\"function\"},{\"inputs\":[],\"name\":\"renounceOwnership\",\"outputs\":[],\"stateMutability\":\"nonpayable\",\"type\":\"function\"},{\"inputs\":[{\"internalType\":\"address\",\"name\":\"_collector\",\"type\":\"address\"}],\"name\":\"setFeeCollector\",\"outputs\":[],\"stateMutability\":\"nonpayable\",\"type\":\"function\"},{\"inputs\":[{\"internalType\":\"address\",\"name\":\"_lockProxy\",\"type\":\"address\"}],\"name\":\"setLockProxy\",\"outputs\":[],\"stateMutability\":\"nonpayable\",\"type\":\"function\"},{\"inputs\":[{\"internalType\":\"address\",\"name\":\"fromAsset\",\"type\":\"address\"},{\"internalType\":\"bytes\",\"name\":\"txHash\",\"type\":\"bytes\"},{\"internalType\":\"uint256\",\"name\":\"fee\",\"type\":\"uint256\"}],\"name\":\"speedUp\",\"outputs\":[],\"stateMutability\":\"payable\",\"type\":\"function\"},{\"inputs\":[{\"internalType\":\"address\",\"name\":\"newOwner\",\"type\":\"address\"}],\"name\":\"transferOwnership\",\"outputs\":[],\"stateMutability\":\"nonpayable\",\"type\":\"function\"},{\"inputs\":[],\"name\":\"unpause\",\"outputs\":[],\"stateMutability\":\"nonpayable\",\"type\":\"function\"}]')\n",
    "contract = w3.eth.contract(address=contract_address, abi=contract_abi)"
   ]
  },
  {
   "cell_type": "markdown",
   "metadata": {},
   "source": [
    "### Get the logs of the contract\n",
    "\n",
    "From the contract's abi or the source code, you can know which event you want to listen to. For example, in the above contract, there is a **WrapperLock** event. You can get all the emitted **WrapperLock** events in this way:"
   ]
  },
  {
   "cell_type": "code",
   "execution_count": 31,
   "metadata": {},
   "outputs": [],
   "source": [
    "# Get all the logs for the contract\n",
    "# You can specify the block range with fromBlock and toBlock\n",
    "logs = contract.events.WrapperLock().get_logs(fromBlock=0x457CFA, toBlock=0x45CA43)\n",
    "\n",
    "# If you don't want all of them, you can manually add a filter\n",
    "# For example, only get the logs with a specific sender\n",
    "logs = contract.events.WrapperLock().get_logs(fromBlock=0x457CFA, toBlock=0x45CA43, argument_filters={\"sender\": \"0x00468F6fe26DBAb138571f2C3B91c8dFE3E241Dc\"})"
   ]
  },
  {
   "cell_type": "markdown",
   "metadata": {},
   "source": [
    "### Listen to an event in real time"
   ]
  },
  {
   "cell_type": "code",
   "execution_count": null,
   "metadata": {},
   "outputs": [],
   "source": [
    "# define a filter \n",
    "event_filter = contract.events.WrapperLock.create_filter(fromBlock='latest')\n",
    "\n",
    "# Listen for events\n",
    "def handle_event(event):\n",
    "    print(event)\n",
    "    # Do something with the event\n",
    "\n",
    "def log_loop(event_filter, poll_interval):\n",
    "    while True:\n",
    "        for event in event_filter.get_new_entries():\n",
    "            handle_event(event)\n",
    "        time.sleep(poll_interval)\n",
    "\n",
    "log_loop(event_filter, 2)"
   ]
  },
  {
   "cell_type": "code",
   "execution_count": 30,
   "metadata": {},
   "outputs": [
    {
     "name": "stdout",
     "output_type": "stream",
     "text": [
      "AttributeDict({'args': AttributeDict({'fromAsset': '0x0000000000000000000000000000000000000000', 'sender': '0x041026C06210595f5700c7c83db05b9FfdBF53c9', 'toChainId': 2, 'toAddress': b'aleo1mjehxw4l84pp4vs47ll8p9gh44yzcgwq8mdsxws0v32rkzs9ug9q5ug5wk', 'net': 10000000000000000, 'fee': 10000000000000000}), 'event': 'WrapperLock', 'logIndex': 121, 'transactionIndex': 102, 'transactionHash': HexBytes('0x4d714e170fb550c4ceaf4e81c4082b26d9c33a21f18097d4f7841e10370bb13f'), 'address': '0x7d164F30f0b6a2ABAE55Adae9645a22268747D61', 'blockHash': HexBytes('0x43bc70184558a102628f33c091ccd394e1d80d290ac02f4ea1216d77a7fad2e0'), 'blockNumber': 5262825})\n",
      "AttributeDict({'args': AttributeDict({'fromAsset': '0x0000000000000000000000000000000000000000', 'sender': '0x1741f9E80ADcdDF913897c5e7952C0129951b5a9', 'toChainId': 2, 'toAddress': b'aleo1d8qfuw7z7rqux5kmud7s6zjqn3wmkaqjx93uy33e6qazdq8cu59svvwlvt', 'net': 40000000000000000, 'fee': 10000000000000000}), 'event': 'WrapperLock', 'logIndex': 44, 'transactionIndex': 39, 'transactionHash': HexBytes('0xd37eeab23734ba129681f125572030ede8e52838588e2713edfeff61dca3f567'), 'address': '0x7d164F30f0b6a2ABAE55Adae9645a22268747D61', 'blockHash': HexBytes('0x19324945ea3bb7d9b017a7ffacff6f17b60a11de8428ab9acd333d7c9b77d886'), 'blockNumber': 5262828})\n"
     ]
    }
   ],
   "source": [
    "# Or you can use threading\n",
    "from threading import Thread\n",
    "\n",
    "stop_thread = False\n",
    "\n",
    "def handle_event(event):\n",
    "    print(event)\n",
    "    # Do something with the event\n",
    "\n",
    "def log_loop(event_filter, poll_interval):\n",
    "    while not stop_thread:\n",
    "        for event in event_filter.get_new_entries():\n",
    "            handle_event(event)\n",
    "        time.sleep(poll_interval)\n",
    "\n",
    "worker = Thread(target=log_loop, args=(event_filter, 2), daemon=True)\n",
    "worker.start()\n",
    "time.sleep(60)\n",
    "stop_thread = True\n",
    "worker.join()"
   ]
  }
 ],
 "metadata": {
  "kernelspec": {
   "display_name": "base",
   "language": "python",
   "name": "python3"
  },
  "language_info": {
   "codemirror_mode": {
    "name": "ipython",
    "version": 3
   },
   "file_extension": ".py",
   "mimetype": "text/x-python",
   "name": "python",
   "nbconvert_exporter": "python",
   "pygments_lexer": "ipython3",
   "version": "3.11.5"
  }
 },
 "nbformat": 4,
 "nbformat_minor": 2
}
