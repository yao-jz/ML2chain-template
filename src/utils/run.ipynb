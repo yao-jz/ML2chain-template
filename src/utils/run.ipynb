{
 "cells": [
  {
   "cell_type": "markdown",
   "metadata": {},
   "source": [
    "# How to listen to events, and upload model's output on chain"
   ]
  },
  {
   "cell_type": "code",
   "execution_count": 1,
   "metadata": {},
   "outputs": [],
   "source": [
    "from web3 import Web3, HTTPProvider\n",
    "from hexbytes import HexBytes\n",
    "import json\n",
    "import time\n",
    "from web3.gas_strategies.time_based import medium_gas_price_strategy\n",
    "import os\n",
    "from threading import Thread\n",
    "from web3.datastructures import AttributeDict"
   ]
  },
  {
   "cell_type": "code",
   "execution_count": 37,
   "metadata": {},
   "outputs": [],
   "source": [
    "w3 = Web3(HTTPProvider(os.environ.get(\"PROVIDER_URI_SEPOLIA\")))\n",
    "my_address = os.environ.get(\"ADDRESS\")\n",
    "private_key = os.environ.get(\"PRIVATE_KEY\")\n",
    "address = Web3.to_checksum_address(my_address)"
   ]
  },
  {
   "cell_type": "code",
   "execution_count": 41,
   "metadata": {},
   "outputs": [],
   "source": [
    "collector_contract_address = \"0x7f8A0D82d1f14D0976bE8AaAb0C885e3Be154c43\"\n",
    "collector_contract_abi = json.loads('[{\"inputs\":[{\"internalType\":\"address\",\"name\":\"_address\",\"type\":\"address\"}],\"stateMutability\":\"nonpayable\",\"type\":\"constructor\"},{\"inputs\":[{\"internalType\":\"address\",\"name\":\"owner\",\"type\":\"address\"}],\"name\":\"OwnableInvalidOwner\",\"type\":\"error\"},{\"inputs\":[{\"internalType\":\"address\",\"name\":\"account\",\"type\":\"address\"}],\"name\":\"OwnableUnauthorizedAccount\",\"type\":\"error\"},{\"anonymous\":false,\"inputs\":[{\"indexed\":true,\"internalType\":\"address\",\"name\":\"previousOwner\",\"type\":\"address\"},{\"indexed\":true,\"internalType\":\"address\",\"name\":\"newOwner\",\"type\":\"address\"}],\"name\":\"OwnershipTransferred\",\"type\":\"event\"},{\"anonymous\":false,\"inputs\":[{\"indexed\":false,\"internalType\":\"uint256\",\"name\":\"requestId\",\"type\":\"uint256\"},{\"indexed\":false,\"internalType\":\"string\",\"name\":\"output\",\"type\":\"string\"}],\"name\":\"ResponseEvent\",\"type\":\"event\"},{\"inputs\":[],\"name\":\"coordinator\",\"outputs\":[{\"internalType\":\"address\",\"name\":\"\",\"type\":\"address\"}],\"stateMutability\":\"view\",\"type\":\"function\"},{\"inputs\":[{\"internalType\":\"uint256\",\"name\":\"_id\",\"type\":\"uint256\"}],\"name\":\"getOutput\",\"outputs\":[{\"internalType\":\"string\",\"name\":\"\",\"type\":\"string\"}],\"stateMutability\":\"view\",\"type\":\"function\"},{\"inputs\":[{\"internalType\":\"uint256\",\"name\":\"\",\"type\":\"uint256\"}],\"name\":\"outputs\",\"outputs\":[{\"internalType\":\"string\",\"name\":\"\",\"type\":\"string\"}],\"stateMutability\":\"view\",\"type\":\"function\"},{\"inputs\":[],\"name\":\"owner\",\"outputs\":[{\"internalType\":\"address\",\"name\":\"\",\"type\":\"address\"}],\"stateMutability\":\"view\",\"type\":\"function\"},{\"inputs\":[],\"name\":\"renounceOwnership\",\"outputs\":[],\"stateMutability\":\"nonpayable\",\"type\":\"function\"},{\"inputs\":[{\"internalType\":\"address\",\"name\":\"_coordinator\",\"type\":\"address\"}],\"name\":\"setCoordinator\",\"outputs\":[],\"stateMutability\":\"nonpayable\",\"type\":\"function\"},{\"inputs\":[{\"internalType\":\"uint256\",\"name\":\"_id\",\"type\":\"uint256\"},{\"internalType\":\"string\",\"name\":\"_output\",\"type\":\"string\"}],\"name\":\"setOutput\",\"outputs\":[],\"stateMutability\":\"nonpayable\",\"type\":\"function\"},{\"inputs\":[{\"internalType\":\"address\",\"name\":\"newOwner\",\"type\":\"address\"}],\"name\":\"transferOwnership\",\"outputs\":[],\"stateMutability\":\"nonpayable\",\"type\":\"function\"}]')\n",
    "collector_contract = w3.eth.contract(address=collector_contract_address, abi=collector_contract_abi)\n",
    "\n",
    "coordinator_contract_address = \"0x1B42d9Ba11180Db82C5fd902a40D769987fF1c3B\"\n",
    "coordinator_contract_abi = json.loads('[{\"inputs\": [],\"stateMutability\": \"nonpayable\",\"type\": \"constructor\"},{\"anonymous\": false,\"inputs\": [{\"indexed\": false,\"internalType\": \"uint256\",\"name\": \"requestId\",\"type\": \"uint256\"},{\"indexed\": false,\"internalType\": \"address\",\"name\": \"user\",\"type\": \"address\"},{\"indexed\": false,\"internalType\": \"string\",\"name\": \"modelId\",\"type\": \"string\"},{\"indexed\": false,\"internalType\": \"string\",\"name\": \"input\",\"type\": \"string\"},{\"indexed\": false,\"internalType\": \"address\",\"name\": \"callbackContract\",\"type\": \"address\"},{\"indexed\": false,\"internalType\": \"string\",\"name\": \"callbackFunction\",\"type\": \"string\"}],\"name\": \"RequestEvent\",\"type\": \"event\"},{\"anonymous\": false,\"inputs\": [{\"indexed\": false,\"internalType\": \"uint256\",\"name\": \"requestId\",\"type\": \"uint256\"},{\"indexed\": false,\"internalType\": \"string\",\"name\": \"output\",\"type\": \"string\"}],\"name\": \"ResponseEvent\",\"type\": \"event\"},{\"inputs\": [{\"internalType\": \"uint256\",\"name\": \"_id\",\"type\": \"uint256\"},{\"internalType\": \"string\",\"name\": \"_output\",\"type\": \"string\"}],\"name\": \"fulfillRequest\",\"outputs\": [],\"stateMutability\": \"nonpayable\",\"type\": \"function\"},{\"inputs\": [{\"internalType\": \"uint256\",\"name\": \"_id\",\"type\": \"uint256\"}],\"name\": \"getOutput\",\"outputs\": [{\"internalType\": \"string\",\"name\": \"\",\"type\": \"string\"}],\"stateMutability\": \"view\",\"type\": \"function\"},{\"inputs\": [{\"internalType\": \"uint256\",\"name\": \"_id\",\"type\": \"uint256\"}],\"name\": \"getRequest\",\"outputs\": [{\"internalType\": \"address\",\"name\": \"\",\"type\": \"address\"},{\"internalType\": \"string\",\"name\": \"\",\"type\": \"string\"},{\"internalType\": \"string\",\"name\": \"\",\"type\": \"string\"},{\"internalType\": \"address\",\"name\": \"\",\"type\": \"address\"},{\"internalType\": \"string\",\"name\": \"\",\"type\": \"string\"},{\"internalType\": \"bool\",\"name\": \"\",\"type\": \"bool\"}],\"stateMutability\": \"view\",\"type\": \"function\"},{\"inputs\": [{\"internalType\": \"string\",\"name\": \"_modelId\",\"type\": \"string\"},{\"internalType\": \"string\",\"name\": \"_input\",\"type\": \"string\"},{\"internalType\": \"address\",\"name\": \"_callbackContract\",\"type\": \"address\"},{\"internalType\": \"string\",\"name\": \"_callbackFunction\",\"type\": \"string\"}],\"name\": \"makeRequest\",\"outputs\": [],\"stateMutability\": \"nonpayable\",\"type\": \"function\"},{\"inputs\": [{\"internalType\": \"uint256\",\"name\": \"\",\"type\": \"uint256\"}],\"name\": \"outputs\",\"outputs\": [{\"internalType\": \"string\",\"name\": \"\",\"type\": \"string\"}],\"stateMutability\": \"view\",\"type\": \"function\"},{\"inputs\": [{\"internalType\": \"uint256\",\"name\": \"\",\"type\": \"uint256\"}],\"name\": \"requestStatus\",\"outputs\": [{\"internalType\": \"bool\",\"name\": \"\",\"type\": \"bool\"}],\"stateMutability\": \"view\",\"type\": \"function\"},{\"inputs\": [{\"internalType\": \"uint256\",\"name\": \"\",\"type\": \"uint256\"}],\"name\": \"requests\",\"outputs\": [{\"internalType\": \"address\",\"name\": \"user\",\"type\": \"address\"},{\"internalType\": \"string\",\"name\": \"modelId\",\"type\": \"string\"},{\"internalType\": \"string\",\"name\": \"input\",\"type\": \"string\"},{\"internalType\": \"address\",\"name\": \"callbackContract\",\"type\": \"address\"},{\"internalType\": \"string\",\"name\": \"callbackFunction\",\"type\": \"string\"}],\"stateMutability\": \"view\",\"type\": \"function\"}]')\n",
    "coordinator_contract = w3.eth.contract(address=coordinator_contract_address, abi=coordinator_contract_abi)"
   ]
  },
  {
   "cell_type": "code",
   "execution_count": 46,
   "metadata": {},
   "outputs": [
    {
     "name": "stdout",
     "output_type": "stream",
     "text": [
      "==========\n",
      "Request ID: 61449662441728798945671122236511050868222596957928297598899945623039085479140\n",
      "Received request from 0x3DAD7c5704A6eA567A0549ee711768C0A405D06C for model 11111 with input TestInput1234\n",
      "Callback contract: 0x7f8A0D82d1f14D0976bE8AaAb0C885e3Be154c43\n",
      "Callback function: setOutput(uint256,string)\n",
      "\n",
      "Output: TestInput1234 processed\n",
      "Transaction hash: 0x0032fb06380dfbe1902322efc1c280de0ec3ef0deea15e7fda76413fc4453a75\n",
      "==========\n",
      "Request ID: 93167671792678172914998233092221646823159126762632369763689914728220711443173\n",
      "Received request from 0x3DAD7c5704A6eA567A0549ee711768C0A405D06C for model 11111 with input TestInput5678\n",
      "Callback contract: 0x7f8A0D82d1f14D0976bE8AaAb0C885e3Be154c43\n",
      "Callback function: setOutput(uint256,string)\n",
      "\n",
      "Output: TestInput5678 processed\n",
      "Transaction hash: 0x79bcb3b801bfc899bc7143de95bc684144b347174b77c881ae13ccc08ecd1380\n",
      "==========\n",
      "Request ID: 42080307265764545085978107958747233995913156732739041136131800900114180654393\n",
      "Received request from 0x3DAD7c5704A6eA567A0549ee711768C0A405D06C for model 11111 with input TestInput91011\n",
      "Callback contract: 0x7f8A0D82d1f14D0976bE8AaAb0C885e3Be154c43\n",
      "Callback function: setOutput(uint256,string)\n",
      "\n",
      "Output: TestInput91011 processed\n",
      "Transaction hash: 0x1ee421c63fa428dc6d335cede65d063c55d7bf272ab57f9e0c25206272d32557\n",
      "finished!\n"
     ]
    }
   ],
   "source": [
    "request_event_filter = coordinator_contract.events.RequestEvent.create_filter(fromBlock='latest')\n",
    "w3.eth.set_gas_price_strategy(medium_gas_price_strategy)\n",
    "\n",
    "# You can use your model here\n",
    "def my_model(input, modelId = 1234):\n",
    "    return input + \" processed\"\n",
    "\n",
    "stop_thread = False\n",
    "\n",
    "def handle_event(event):\n",
    "    print(\"=\"*10)\n",
    "    # Parse the event\n",
    "    args = event['args']\n",
    "    requestId = args['requestId']\n",
    "    user = args['user']\n",
    "    modelId = args['modelId']\n",
    "    input = args['input']\n",
    "    callbackContract = args['callbackContract']\n",
    "    callbackFunction = args['callbackFunction']\n",
    "    print(f\"Request ID: {requestId}\")\n",
    "    print(f\"Received request from {user} for model {modelId} with input {input}\")\n",
    "    print(f\"Callback contract: {callbackContract}\")\n",
    "    print(f\"Callback function: {callbackFunction}\")\n",
    "\n",
    "    # Process the input, get the output using your model with the modelId\n",
    "    output = my_model(input, modelId)\n",
    "    print(f\"\\nOutput: {output}\")\n",
    "\n",
    "    # Send the output back to the coordinator to fulfill the request\n",
    "    tx_hash = coordinator_contract.functions.fulfillRequest(requestId, output).build_transaction({'from': address,\"nonce\": w3.eth.get_transaction_count(address), \"gas\": 2000000, \"gasPrice\": w3.eth.generate_gas_price(), \"value\": 0})\n",
    "    signed_tx = w3.eth.account.sign_transaction(tx_hash, private_key=private_key)\n",
    "    tx_hash = w3.eth.send_raw_transaction(signed_tx.rawTransaction)\n",
    "    print(f\"Transaction hash: {tx_hash.hex()}\")\n",
    "\n",
    "def log_loop(event_filter, poll_interval):\n",
    "    while not stop_thread:\n",
    "        for event in event_filter.get_new_entries():\n",
    "            handle_event(event)\n",
    "        time.sleep(poll_interval)\n",
    "\n",
    "worker = Thread(target=log_loop, args=(request_event_filter, 2), daemon=True)\n",
    "worker.start()\n",
    "time.sleep(200)\n",
    "stop_thread = True\n",
    "worker.join()\n",
    "print(\"=\"*10)\n",
    "print(\"finished!\")"
   ]
  },
  {
   "cell_type": "markdown",
   "metadata": {},
   "source": [
    "#### After you fulfill the request, you can use the Request ID to check the output in [this contract](https://sepolia.etherscan.io/address/0x7f8A0D82d1f14D0976bE8AaAb0C885e3Be154c43#readContract)"
   ]
  }
 ],
 "metadata": {
  "kernelspec": {
   "display_name": "base",
   "language": "python",
   "name": "python3"
  },
  "language_info": {
   "codemirror_mode": {
    "name": "ipython",
    "version": 3
   },
   "file_extension": ".py",
   "mimetype": "text/x-python",
   "name": "python",
   "nbconvert_exporter": "python",
   "pygments_lexer": "ipython3",
   "version": "3.11.5"
  }
 },
 "nbformat": 4,
 "nbformat_minor": 2
}
